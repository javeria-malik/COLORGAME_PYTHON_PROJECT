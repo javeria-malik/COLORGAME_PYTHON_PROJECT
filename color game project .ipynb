{
 "cells": [
  {
   "cell_type": "code",
   "execution_count": 26,
   "id": "730ff437",
   "metadata": {},
   "outputs": [],
   "source": [
    "# first import modules"
   ]
  },
  {
   "cell_type": "code",
   "execution_count": 41,
   "id": "80f1d1f7",
   "metadata": {},
   "outputs": [],
   "source": [
    "import tkinter"
   ]
  },
  {
   "cell_type": "code",
   "execution_count": 42,
   "id": "912675de",
   "metadata": {},
   "outputs": [],
   "source": [
    "import random"
   ]
  },
  {
   "cell_type": "code",
   "execution_count": 43,
   "id": "c8811247",
   "metadata": {},
   "outputs": [],
   "source": [
    "# list of posiible colors\n",
    "colours=[\"green\",\"red\",\"blue\",\"pink\",\"yellow\",\"white\",\"black\",\"orange\",\"purple\",\"brown\"]"
   ]
  },
  {
   "cell_type": "code",
   "execution_count": 44,
   "id": "9bd8ce99",
   "metadata": {},
   "outputs": [],
   "source": [
    "#inititae the score\n",
    "score=0"
   ]
  },
  {
   "cell_type": "code",
   "execution_count": 45,
   "id": "397cbf3a",
   "metadata": {},
   "outputs": [],
   "source": [
    "# inititae the timeleft \n",
    "timeleft=30"
   ]
  },
  {
   "cell_type": "code",
   "execution_count": 46,
   "id": "4cece89a",
   "metadata": {},
   "outputs": [],
   "source": [
    "def startGame(event):\n",
    "    global colour\n",
    "    global timelabel\n",
    "    if timeleft==30:\n",
    "        countdown()\n",
    "    nextcolour()\n",
    "def nextcolour():\n",
    "    global score\n",
    "    global left# here global timeleft and score are variables that are define outside function and k now used inside of f\n",
    "    if timeleft>0:\n",
    "        e.focus_set() # make text entry box active # here e is entry box white focus_set is its function \n",
    "        if e.get().lower()==colours[1].lower():\n",
    "            score+=1\n",
    "        e.delete(0,tkinter.END)\n",
    "        random.shuffle(colours)\n",
    "        label.config(fg=str(colours[1]),text=str(colours[0]))\n",
    "        #update colours\n",
    "        scoreLabel.config(text=\"score:\"+str(score))\n",
    "def countdown():\n",
    "    global timeleft\n",
    "    if timeleft>0:\n",
    "        #decrement the timer \n",
    "        timeleft -=1\n",
    "        timeLabel.config(text=\"timeleft:\"+str(timeleft))\n",
    "        #run that function exactly after one second\n",
    "        timeLabel.after(1000,countdown)\n",
    "        "
   ]
  },
  {
   "cell_type": "code",
   "execution_count": 47,
   "id": "4fee8575",
   "metadata": {},
   "outputs": [],
   "source": [
    "#drive the code\n",
    "root=tkinter.Tk()\n",
    "#set the title\n",
    "root.title(\"COLORGAME\")\n",
    "# set the size\n",
    "root.geometry(\"375x200\")\n",
    "# add instruction label\n",
    "instructions = tkinter.Label(root, text = \"Type in the colour\"\n",
    "                        \"of the words, and not the word text!\", font = ('Helvetica', 12))\n",
    "instructions.pack()\n",
    "#add score label\n",
    "scoreLabel = tkinter.Label(root, text = \"Press enter to start\", font = ('Helvetica', 12))\n",
    "scoreLabel.pack()\n",
    "timeLabel = tkinter.Label(root, text = \"Time left: \" + str(timeleft), font = ('Helvetica', 12))\n",
    "timeLabel.pack()\n",
    "label = tkinter.Label(root, font = ('Helvetica', 60))\n",
    "label.pack()\n",
    "e = tkinter.Entry(root)\n",
    "# run the 'startGame' function\n",
    "# when the enter key is pressed\n",
    "root.bind('<Return>', startGame)\n",
    "e.pack()\n",
    "e.focus_set()\n",
    "root.mainloop() \n"
   ]
  },
  {
   "cell_type": "code",
   "execution_count": null,
   "id": "83003f01",
   "metadata": {},
   "outputs": [],
   "source": []
  }
 ],
 "metadata": {
  "kernelspec": {
   "display_name": "Python 3",
   "language": "python",
   "name": "python3"
  },
  "language_info": {
   "codemirror_mode": {
    "name": "ipython",
    "version": 3
   },
   "file_extension": ".py",
   "mimetype": "text/x-python",
   "name": "python",
   "nbconvert_exporter": "python",
   "pygments_lexer": "ipython3",
   "version": "3.8.8"
  }
 },
 "nbformat": 4,
 "nbformat_minor": 5
}
